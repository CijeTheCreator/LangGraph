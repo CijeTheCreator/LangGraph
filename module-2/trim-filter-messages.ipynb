{
  "cells": [
    {
      "cell_type": "markdown",
      "id": "fb0ebaf1",
      "metadata": {
        "id": "fb0ebaf1"
      },
      "source": [
        "[![Open in Colab](https://colab.research.google.com/assets/colab-badge.svg)](https://colab.research.google.com/github/langchain-ai/langchain-academy/blob/main/module-2/trim-filter-messages.ipynb) [![Open in LangChain Academy](https://cdn.prod.website-files.com/65b8cd72835ceeacd4449a53/66e9eba12c7b7688aa3dbb5e_LCA-badge-green.svg)](https://academy.langchain.com/courses/take/intro-to-langgraph/lessons/58239435-lesson-4-trim-and-filter-messages)"
      ]
    },
    {
      "cell_type": "markdown",
      "id": "c52ea2f9-03ff-4647-b782-46867ebed04e",
      "metadata": {
        "id": "c52ea2f9-03ff-4647-b782-46867ebed04e"
      },
      "source": [
        "# Filtering and trimming messages\n",
        "\n",
        "## Review\n",
        "\n",
        "Now, we have a deeper understanding of a few things:\n",
        "\n",
        "* How to customize the graph state schema\n",
        "* How to define custom state reducers\n",
        "* How to use multiple graph state schemas\n",
        "\n",
        "## Goals\n",
        "\n",
        "Now, we can start using these concepts with models in LangGraph!\n",
        "\n",
        "In the next few sessions, we'll build towards a chatbot that has long-term memory.\n",
        "\n",
        "Because our chatbot will use messages, let's first talk a bit more about advanced ways to work with messages in graph state."
      ]
    },
    {
      "cell_type": "code",
      "execution_count": 1,
      "id": "d5197aba-5d46-421b-ae3b-4e3034edcfda",
      "metadata": {
        "id": "d5197aba-5d46-421b-ae3b-4e3034edcfda"
      },
      "outputs": [],
      "source": [
        "%%capture --no-stderr\n",
        "%pip install --quiet -U langchain_core langgraph langchain_openai"
      ]
    },
    {
      "cell_type": "code",
      "execution_count": 2,
      "id": "768dc606-d5f2-468d-96ea-910b264e0f8a",
      "metadata": {
        "id": "768dc606-d5f2-468d-96ea-910b264e0f8a",
        "outputId": "d6e7625f-2eba-404d-935e-4a706f076de3",
        "colab": {
          "base_uri": "https://localhost:8080/"
        }
      },
      "outputs": [
        {
          "name": "stdout",
          "output_type": "stream",
          "text": [
            "OPENAI_API_KEY: ··········\n"
          ]
        }
      ],
      "source": [
        "import os, getpass\n",
        "\n",
        "def _set_env(var: str):\n",
        "    if not os.environ.get(var):\n",
        "        os.environ[var] = getpass.getpass(f\"{var}: \")\n",
        "\n",
        "_set_env(\"OPENAI_API_KEY\")"
      ]
    },
    {
      "cell_type": "markdown",
      "id": "8b64d8d3-e4ac-4961-bdc0-688825eb5864",
      "metadata": {
        "id": "8b64d8d3-e4ac-4961-bdc0-688825eb5864"
      },
      "source": [
        "We'll use [LangSmith](https://docs.smith.langchain.com/) for [tracing](https://docs.smith.langchain.com/concepts/tracing).\n",
        "\n",
        "We'll log to a project, `langchain-academy`."
      ]
    },
    {
      "cell_type": "code",
      "execution_count": 3,
      "id": "dd020c79",
      "metadata": {
        "id": "dd020c79",
        "outputId": "0af33210-3a2b-43c6-d4a9-7b59dab98162",
        "colab": {
          "base_uri": "https://localhost:8080/"
        }
      },
      "outputs": [
        {
          "name": "stdout",
          "output_type": "stream",
          "text": [
            "LANGCHAIN_API_KEY: ··········\n"
          ]
        }
      ],
      "source": [
        "_set_env(\"LANGCHAIN_API_KEY\")\n",
        "os.environ[\"LANGCHAIN_TRACING_V2\"] = \"true\"\n",
        "os.environ[\"LANGCHAIN_PROJECT\"] = \"langchain-academy\""
      ]
    },
    {
      "cell_type": "markdown",
      "id": "72f3fc90-58b6-4f7f-897e-dddf6ae532c7",
      "metadata": {
        "id": "72f3fc90-58b6-4f7f-897e-dddf6ae532c7"
      },
      "source": [
        "## Messages as state\n",
        "\n",
        "First, let's define some messages."
      ]
    },
    {
      "cell_type": "code",
      "execution_count": 4,
      "id": "cf11a463-e27a-4a05-b41d-64882e38edca",
      "metadata": {
        "id": "cf11a463-e27a-4a05-b41d-64882e38edca",
        "outputId": "7ea86126-900a-449f-852f-352585d92f67",
        "colab": {
          "base_uri": "https://localhost:8080/"
        }
      },
      "outputs": [
        {
          "output_type": "stream",
          "name": "stdout",
          "text": [
            "==================================\u001b[1m Ai Message \u001b[0m==================================\n",
            "Name: Bot\n",
            "\n",
            "So you said you were researching ocean mammals?\n",
            "================================\u001b[1m Human Message \u001b[0m=================================\n",
            "Name: Lance\n",
            "\n",
            "Yes, I know about whales. But what others should I learn about?\n"
          ]
        }
      ],
      "source": [
        "from pprint import pprint\n",
        "from langchain_core.messages import AIMessage, HumanMessage\n",
        "messages = [AIMessage(f\"So you said you were researching ocean mammals?\", name=\"Bot\")]\n",
        "messages.append(HumanMessage(f\"Yes, I know about whales. But what others should I learn about?\", name=\"Lance\"))\n",
        "\n",
        "for m in messages:\n",
        "    m.pretty_print()"
      ]
    },
    {
      "cell_type": "markdown",
      "id": "b814adcb-6bf9-4b75-be11-e59f933fbd0c",
      "metadata": {
        "id": "b814adcb-6bf9-4b75-be11-e59f933fbd0c"
      },
      "source": [
        "Recall we can pass them to a chat model."
      ]
    },
    {
      "cell_type": "code",
      "execution_count": 5,
      "id": "4712e288-e622-48a2-ad3f-a52f65f3ab08",
      "metadata": {
        "id": "4712e288-e622-48a2-ad3f-a52f65f3ab08",
        "outputId": "3a3af3ad-1822-4d3f-ec98-b320337134f3",
        "colab": {
          "base_uri": "https://localhost:8080/"
        }
      },
      "outputs": [
        {
          "output_type": "execute_result",
          "data": {
            "text/plain": [
              "AIMessage(content='In addition to whales, there are several other fascinating ocean mammals that you might find interesting to learn about:\\n\\n1. **Dolphins**: These highly intelligent creatures are known for their agility and playful behavior. There are many species of dolphins, including the common bottlenose dolphin and the orca, or killer whale, which is actually the largest member of the dolphin family.\\n\\n2. **Porpoises**: Often mistaken for dolphins, porpoises are another group of small cetaceans. They usually have smaller, more robust bodies and different shaped teeth.\\n\\n3. **Manatees**: These gentle giants, also known as sea cows, are herbivorous and can be found in shallow, slow-moving rivers, estuaries, saltwater bays, and coastal areas.\\n\\n4. **Dugongs**: Similar to manatees, dugongs are another type of large marine herbivore, primarily found in warm coastal waters from East Africa to Australia.\\n\\n5. **Sea Lions**: These social animals are part of the pinniped family and are known for their external ear flaps and long front flippers, which make them agile swimmers.\\n\\n6. **Seals**: Seals, or true seals, are also pinnipeds but can be distinguished from sea lions by their lack of external ear flaps and a more streamlined body.\\n\\n7. **Walruses**: These large pinnipeds are known for their long tusks, whiskers, and bulkier bodies. They are typically found in Arctic regions.\\n\\n8. **Polar Bears**: While not entirely aquatic, polar bears are considered marine mammals because they spend much of their life on the sea ice of the Arctic Ocean, hunting seals.\\n\\n9. **Sea Otters**: These small marine mammals are known for their dense fur and their ability to use tools to open shellfish. They play a crucial role in maintaining the health of kelp forest ecosystems.\\n\\n10. **Narwhals**: Often called the \"unicorns of the sea,\" these elusive whales are known for the long, spiral tusk that protrudes from the head of the males.\\n\\nEach of these species plays an important role in their respective ecosystems and offers unique insights into the diverse adaptations marine mammals have developed to survive in aquatic environments.', additional_kwargs={'refusal': None}, response_metadata={'token_usage': {'completion_tokens': 464, 'prompt_tokens': 39, 'total_tokens': 503, 'completion_tokens_details': {'accepted_prediction_tokens': 0, 'audio_tokens': 0, 'reasoning_tokens': 0, 'rejected_prediction_tokens': 0}, 'prompt_tokens_details': {'audio_tokens': 0, 'cached_tokens': 0}}, 'model_name': 'gpt-4o-2024-08-06', 'system_fingerprint': 'fp_f9f4fb6dbf', 'finish_reason': 'stop', 'logprobs': None}, id='run-3992cde1-0ec2-4aba-a656-4c90d4b8831f-0', usage_metadata={'input_tokens': 39, 'output_tokens': 464, 'total_tokens': 503, 'input_token_details': {'audio': 0, 'cache_read': 0}, 'output_token_details': {'audio': 0, 'reasoning': 0}})"
            ]
          },
          "metadata": {},
          "execution_count": 5
        }
      ],
      "source": [
        "from langchain_openai import ChatOpenAI\n",
        "llm = ChatOpenAI(model=\"gpt-4o\")\n",
        "llm.invoke(messages)"
      ]
    },
    {
      "cell_type": "markdown",
      "id": "fbd1dab8-0af8-4621-8264-ce65065f76ec",
      "metadata": {
        "id": "fbd1dab8-0af8-4621-8264-ce65065f76ec"
      },
      "source": [
        "We can run our chat model in a simple graph with `MessagesState`."
      ]
    },
    {
      "cell_type": "code",
      "execution_count": 6,
      "id": "bbd8c39c-633b-4176-9cc6-8318e42bb5dd",
      "metadata": {
        "id": "bbd8c39c-633b-4176-9cc6-8318e42bb5dd",
        "outputId": "68dbe667-f0d6-40ae-f968-84832c884171",
        "colab": {
          "base_uri": "https://localhost:8080/",
          "height": 251
        }
      },
      "outputs": [
        {
          "output_type": "display_data",
          "data": {
            "image/png": "[encoded data removed]",
            "text/plain": [
              "<IPython.core.display.Image object>"
            ]
          },
          "metadata": {}
        }
      ],
      "source": [
        "from IPython.display import Image, display\n",
        "from langgraph.graph import MessagesState\n",
        "from langgraph.graph import StateGraph, START, END\n",
        "\n",
        "# Node\n",
        "def chat_model_node(state: MessagesState):\n",
        "    return {\"messages\": llm.invoke(state[\"messages\"])}\n",
        "\n",
        "# Build graph\n",
        "builder = StateGraph(MessagesState)\n",
        "builder.add_node(\"chat_model\", chat_model_node)\n",
        "builder.add_edge(START, \"chat_model\")\n",
        "builder.add_edge(\"chat_model\", END)\n",
        "graph = builder.compile()\n",
        "\n",
        "# View\n",
        "display(Image(graph.get_graph().draw_mermaid_png()))"
      ]
    },
    {
      "cell_type": "code",
      "execution_count": null,
      "id": "3a5a3e4a-ccfd-4d14-81f1-f0de6e11a1e4",
      "metadata": {
        "id": "3a5a3e4a-ccfd-4d14-81f1-f0de6e11a1e4",
        "outputId": "0b4bdda9-c51c-4a9f-92bd-d0d17f08e23a"
      },
      "outputs": [
        {
          "name": "stdout",
          "output_type": "stream",
          "text": [
            "==================================\u001b[1m Ai Message \u001b[0m==================================\n",
            "Name: Bot\n",
            "\n",
            "So you said you were researching ocean mammals?\n",
            "================================\u001b[1m Human Message \u001b[0m=================================\n",
            "Name: Lance\n",
            "\n",
            "Yes, I know about whales. But what others should I learn about?\n",
            "==================================\u001b[1m Ai Message \u001b[0m==================================\n",
            "\n",
            "Absolutely, whales are fascinating! But there are many other ocean mammals worth learning about. Here are a few you might find interesting:\n",
            "\n",
            "1. **Dolphins**: Highly intelligent and social, dolphins are known for their playful behavior and complex communication. There are many species, including the bottlenose dolphin and the orca (killer whale), which is actually the largest member of the dolphin family.\n",
            "\n",
            "2. **Seals and Sea Lions**: These pinnipeds are often found lounging on beaches or frolicking in the water. Seals tend to be more solitary, while sea lions are social and known for their barking calls.\n",
            "\n",
            "3. **Manatees and Dugongs**: Often referred to as sea cows, these gentle herbivores graze on seagrasses in shallow coastal areas. Manatees are found in the Atlantic waters, while dugongs are found in the Indo-Pacific region.\n",
            "\n",
            "4. **Walruses**: Known for their distinctive tusks, walruses are large, social pinnipeds that inhabit the Arctic region. They use their tusks for various purposes, including pulling themselves out of the water and breaking through ice.\n",
            "\n",
            "5. **Narwhals**: Sometimes called the \"unicorns of the sea,\" narwhals are known for their long, spiral tusks, which are actually elongated teeth. They live in Arctic waters and are relatively elusive.\n",
            "\n",
            "6. **Porpoises**: Similar to dolphins but generally smaller and with different physical characteristics, porpoises are also highly intelligent and social animals. They are less acrobatic than dolphins and have more triangular dorsal fins.\n",
            "\n",
            "7. **Sea Otters**: Found along the coasts of the northern and eastern North Pacific Ocean, sea otters are known for their use of tools and their dense fur, which is the thickest of any animal.\n",
            "\n",
            "8. **Polar Bears**: Though they spend a lot of time on ice, polar bears are excellent swimmers and are considered marine mammals because they depend on the ocean for their primary food source, seals.\n",
            "\n",
            "Each of these ocean mammals has unique adaptations and behaviors that make them interesting subjects of study. If you're into marine biology, you might find their various ecosystems, social structures, and survival strategies particularly compelling.\n"
          ]
        }
      ],
      "source": [
        "output = graph.invoke({'messages': messages})\n",
        "for m in output['messages']:\n",
        "    m.pretty_print()"
      ]
    },
    {
      "cell_type": "markdown",
      "id": "34c33e63-1ef4-412d-bb10-6a1b9e5b35a7",
      "metadata": {
        "id": "34c33e63-1ef4-412d-bb10-6a1b9e5b35a7"
      },
      "source": [
        "## Reducer\n",
        "\n",
        "A practical challenge when working with messages is managing long-running conversations.\n",
        "\n",
        "Long-running conversations result in high token usage and latency if we are not careful, because we pass a growing list of messages to the model.\n",
        "\n",
        "We have a few ways to address this.\n",
        "\n",
        "First, recall the trick we saw using `RemoveMessage` and the `add_messages` reducer."
      ]
    },
    {
      "cell_type": "code",
      "execution_count": 7,
      "id": "222c6bc5-bb0e-4a43-80f5-c8ec38d99f3a",
      "metadata": {
        "id": "222c6bc5-bb0e-4a43-80f5-c8ec38d99f3a",
        "outputId": "221c348f-b7ef-4d33-94c8-a959884821b0",
        "colab": {
          "base_uri": "https://localhost:8080/",
          "height": 350
        }
      },
      "outputs": [
        {
          "output_type": "display_data",
          "data": {
            "image/png": "[encoded data removed]",
            "text/plain": [
              "<IPython.core.display.Image object>"
            ]
          },
          "metadata": {}
        }
      ],
      "source": [
        "from langchain_core.messages import RemoveMessage\n",
        "\n",
        "# Nodes\n",
        "def filter_messages(state: MessagesState):\n",
        "    # Delete all but the 2 most recent messages\n",
        "    delete_messages = [RemoveMessage(id=m.id) for m in state[\"messages\"][:-2]]\n",
        "    return {\"messages\": delete_messages}\n",
        "\n",
        "def chat_model_node(state: MessagesState):\n",
        "    return {\"messages\": [llm.invoke(state[\"messages\"])]}\n",
        "\n",
        "# Build graph\n",
        "builder = StateGraph(MessagesState)\n",
        "builder.add_node(\"filter\", filter_messages)\n",
        "builder.add_node(\"chat_model\", chat_model_node)\n",
        "builder.add_edge(START, \"filter\")\n",
        "builder.add_edge(\"filter\", \"chat_model\")\n",
        "builder.add_edge(\"chat_model\", END)\n",
        "graph = builder.compile()\n",
        "\n",
        "# View\n",
        "display(Image(graph.get_graph().draw_mermaid_png()))"
      ]
    },
    {
      "cell_type": "code",
      "execution_count": null,
      "id": "95a7c2cc-54ce-43e7-9a90-abf37827d709",
      "metadata": {
        "id": "95a7c2cc-54ce-43e7-9a90-abf37827d709",
        "outputId": "308093aa-aacb-4b58-e2c4-8433f46a1507"
      },
      "outputs": [
        {
          "name": "stdout",
          "output_type": "stream",
          "text": [
            "==================================\u001b[1m Ai Message \u001b[0m==================================\n",
            "Name: Bot\n",
            "\n",
            "So you said you were researching ocean mammals?\n",
            "================================\u001b[1m Human Message \u001b[0m=================================\n",
            "Name: Lance\n",
            "\n",
            "Yes, I know about whales. But what others should I learn about?\n",
            "==================================\u001b[1m Ai Message \u001b[0m==================================\n",
            "\n",
            "That's great that you know about whales! There are a variety of other fascinating ocean mammals you might be interested in learning about. Here are a few:\n",
            "\n",
            "1. **Dolphins**: These highly intelligent and social animals are part of the cetacean family, which also includes whales and porpoises. There are many species of dolphins, including the common bottlenose dolphin and the orca, or killer whale, which is actually the largest member of the dolphin family.\n",
            "\n",
            "2. **Porpoises**: Similar to dolphins but generally smaller and with different facial structures and teeth. The harbor porpoise is one of the more well-known species.\n",
            "\n",
            "3. **Seals and Sea Lions**: These pinnipeds are known for their playful nature and agility in water. Seals typically have smaller flippers and no visible ear flaps, while sea lions have larger flippers and visible ear flaps.\n",
            "\n",
            "4. **Walruses**: Recognizable by their large tusks, whiskers, and significant bulk, walruses are pinnipeds as well and are usually found in Arctic regions.\n",
            "\n",
            "5. **Manatees and Dugongs**: These gentle giants, often called sea cows, are slow-moving and primarily herbivorous. Manatees are found in the Caribbean and the Gulf of Mexico, while dugongs inhabit the coastal waters of the Indian and western Pacific Oceans.\n",
            "\n",
            "6. **Sea Otters**: Known for their use of tools to open shells and their thick fur, sea otters are a keystone species in their ecosystems, particularly in kelp forest habitats along the Pacific coast of North America.\n",
            "\n",
            "7. **Polar Bears**: While not exclusively marine, polar bears depend heavily on the ocean for hunting seals and are excellent swimmers.\n",
            "\n",
            "Each of these groups has unique adaptations and behaviors that make them fascinating subjects of study. Happy researching!\n"
          ]
        }
      ],
      "source": [
        "# Message list with a preamble\n",
        "messages = [AIMessage(\"Hi.\", name=\"Bot\", id=\"1\")]\n",
        "messages.append(HumanMessage(\"Hi.\", name=\"Lance\", id=\"2\"))\n",
        "messages.append(AIMessage(\"So you said you were researching ocean mammals?\", name=\"Bot\", id=\"3\"))\n",
        "messages.append(HumanMessage(\"Yes, I know about whales. But what others should I learn about?\", name=\"Lance\", id=\"4\"))\n",
        "\n",
        "# Invoke\n",
        "output = graph.invoke({'messages': messages})\n",
        "for m in output['messages']:\n",
        "    m.pretty_print()"
      ]
    },
    {
      "cell_type": "markdown",
      "id": "f506457d-014b-4fee-a684-e5edfb4b8f0d",
      "metadata": {
        "id": "f506457d-014b-4fee-a684-e5edfb4b8f0d"
      },
      "source": [
        "## Filtering messages\n",
        "\n",
        "If you don't need or want to modify the graph state, you can just filter the messages you pass to the chat model.\n",
        "\n",
        "For example, just pass in a filtered list: `llm.invoke(messages[-1:])` to the model."
      ]
    },
    {
      "cell_type": "code",
      "execution_count": null,
      "id": "22d0b904-7cd6-486b-8948-105bee3d4683",
      "metadata": {
        "id": "22d0b904-7cd6-486b-8948-105bee3d4683",
        "outputId": "cb703d5b-9569-47f9-c2e9-c98b93e13dd7"
      },
      "outputs": [
        {
          "data": {
            "image/jpeg": "[encoded data removed]",
            "text/plain": [
              "<IPython.core.display.Image object>"
            ]
          },
          "metadata": {},
          "output_type": "display_data"
        }
      ],
      "source": [
        "# Node\n",
        "def chat_model_node(state: MessagesState):\n",
        "    return {\"messages\": [llm.invoke(state[\"messages\"][-1:])]}\n",
        "\n",
        "# Build graph\n",
        "builder = StateGraph(MessagesState)\n",
        "builder.add_node(\"chat_model\", chat_model_node)\n",
        "builder.add_edge(START, \"chat_model\")\n",
        "builder.add_edge(\"chat_model\", END)\n",
        "graph = builder.compile()\n",
        "\n",
        "# View\n",
        "display(Image(graph.get_graph().draw_mermaid_png()))"
      ]
    },
    {
      "cell_type": "markdown",
      "id": "6f58c6fc-532f-418d-b70a-cfcb3307daf5",
      "metadata": {
        "id": "6f58c6fc-532f-418d-b70a-cfcb3307daf5"
      },
      "source": [
        "Let's take our existing list of messages, append the above LLM response, and append a follow-up question."
      ]
    },
    {
      "cell_type": "code",
      "execution_count": 8,
      "id": "16956015-1dbe-4108-89b5-4209b68b51ca",
      "metadata": {
        "id": "16956015-1dbe-4108-89b5-4209b68b51ca",
        "outputId": "1e35a447-fd5c-49e1-880f-c45ba1581d69",
        "colab": {
          "base_uri": "https://localhost:8080/",
          "height": 161
        }
      },
      "outputs": [
        {
          "output_type": "error",
          "ename": "NameError",
          "evalue": "name 'output' is not defined",
          "traceback": [
            "\u001b[0;31m---------------------------------------------------------------------------\u001b[0m",
            "\u001b[0;31mNameError\u001b[0m                                 Traceback (most recent call last)",
            "\u001b[0;32m<ipython-input-8-3084801397e0>\u001b[0m in \u001b[0;36m<cell line: 0>\u001b[0;34m()\u001b[0m\n\u001b[0;32m----> 1\u001b[0;31m \u001b[0mmessages\u001b[0m\u001b[0;34m.\u001b[0m\u001b[0mappend\u001b[0m\u001b[0;34m(\u001b[0m\u001b[0moutput\u001b[0m\u001b[0;34m[\u001b[0m\u001b[0;34m'messages'\u001b[0m\u001b[0;34m]\u001b[0m\u001b[0;34m[\u001b[0m\u001b[0;34m-\u001b[0m\u001b[0;36m1\u001b[0m\u001b[0;34m]\u001b[0m\u001b[0;34m)\u001b[0m\u001b[0;34m\u001b[0m\u001b[0;34m\u001b[0m\u001b[0m\n\u001b[0m\u001b[1;32m      2\u001b[0m \u001b[0mmessages\u001b[0m\u001b[0;34m.\u001b[0m\u001b[0mappend\u001b[0m\u001b[0;34m(\u001b[0m\u001b[0mHumanMessage\u001b[0m\u001b[0;34m(\u001b[0m\u001b[0;34mf\"Tell me more about Narwhals!\"\u001b[0m\u001b[0;34m,\u001b[0m \u001b[0mname\u001b[0m\u001b[0;34m=\u001b[0m\u001b[0;34m\"Lance\"\u001b[0m\u001b[0;34m)\u001b[0m\u001b[0;34m)\u001b[0m\u001b[0;34m\u001b[0m\u001b[0;34m\u001b[0m\u001b[0m\n",
            "\u001b[0;31mNameError\u001b[0m: name 'output' is not defined"
          ]
        }
      ],
      "source": [
        "messages.append(output['messages'][-1])\n",
        "messages.append(HumanMessage(f\"Tell me more about Narwhals!\", name=\"Lance\"))"
      ]
    },
    {
      "cell_type": "code",
      "execution_count": null,
      "id": "85563415-c085-46a8-a4ac-155df798c54e",
      "metadata": {
        "id": "85563415-c085-46a8-a4ac-155df798c54e",
        "outputId": "84ad49b7-8671-4af6-888d-22b7ced368b8"
      },
      "outputs": [
        {
          "name": "stdout",
          "output_type": "stream",
          "text": [
            "==================================\u001b[1m Ai Message \u001b[0m==================================\n",
            "Name: Bot\n",
            "\n",
            "Hi.\n",
            "================================\u001b[1m Human Message \u001b[0m=================================\n",
            "Name: Lance\n",
            "\n",
            "Hi.\n",
            "==================================\u001b[1m Ai Message \u001b[0m==================================\n",
            "Name: Bot\n",
            "\n",
            "So you said you were researching ocean mammals?\n",
            "================================\u001b[1m Human Message \u001b[0m=================================\n",
            "Name: Lance\n",
            "\n",
            "Yes, I know about whales. But what others should I learn about?\n",
            "==================================\u001b[1m Ai Message \u001b[0m==================================\n",
            "\n",
            "That's great that you know about whales! There are many other fascinating ocean mammals you can learn about. Here are a few:\n",
            "\n",
            "1. **Dolphins**: Highly intelligent and social animals, dolphins are known for their playful behavior and sophisticated communication skills. There are many species of dolphins, including the well-known bottlenose dolphin.\n",
            "\n",
            "2. **Porpoises**: Often confused with dolphins, porpoises are smaller and have different body shapes and teeth. They are generally more reclusive and less acrobatic than dolphins.\n",
            "\n",
            "3. **Seals**: Seals are part of the pinniped family, which also includes sea lions and walruses. They have streamlined bodies and flippers, making them excellent swimmers. Common types of seals include harbor seals and elephant seals.\n",
            "\n",
            "4. **Sea Lions**: Similar to seals but with some key differences, sea lions have external ear flaps and can rotate their hind flippers to walk on land. They are also very social and often gather in large groups.\n",
            "\n",
            "5. **Walruses**: Recognizable by their long tusks and whiskers, walruses are large marine mammals that are found in Arctic regions. They use their tusks to help them climb out of the water and to break through ice.\n",
            "\n",
            "6. **Manatees and Dugongs**: These gentle giants are often referred to as sea cows. Manatees are found in the Atlantic Ocean, while dugongs are found in the Indian and Pacific Oceans. They are herbivores and spend most of their time grazing on underwater vegetation.\n",
            "\n",
            "7. **Sea Otters**: Known for their playful behavior and use of tools, sea otters are an important part of the marine ecosystem. They have thick fur to keep them warm in cold waters and are often seen floating on their backs.\n",
            "\n",
            "8. **Polar Bears**: While not exclusively marine, polar bears spend a significant amount of time in the ocean, particularly in Arctic regions. They are excellent swimmers and rely on sea ice to hunt seals, their primary food source.\n",
            "\n",
            "9. **Narwhals**: Often called the \"unicorns of the sea,\" narwhals have a long, spiral tusk that is actually an elongated tooth. They are found in Arctic waters and are known for their deep diving abilities.\n",
            "\n",
            "10. **Orcas (Killer Whales)**: Though they are technically a type of dolphin, orcas are often considered separately due to their size and distinctive black-and-white coloring. They are apex predators and have complex social structures.\n",
            "\n",
            "Each of these ocean mammals has unique behaviors, adaptations, and ecological roles, making them fascinating subjects for study.\n",
            "================================\u001b[1m Human Message \u001b[0m=================================\n",
            "Name: Lance\n",
            "\n",
            "Tell me more about Narwhals!\n"
          ]
        }
      ],
      "source": [
        "for m in messages:\n",
        "    m.pretty_print()"
      ]
    },
    {
      "cell_type": "code",
      "execution_count": null,
      "id": "23349705-a059-47b5-9760-d8f64e687393",
      "metadata": {
        "id": "23349705-a059-47b5-9760-d8f64e687393",
        "outputId": "0383848c-e823-470c-c2a2-db7c13382294"
      },
      "outputs": [
        {
          "name": "stdout",
          "output_type": "stream",
          "text": [
            "==================================\u001b[1m Ai Message \u001b[0m==================================\n",
            "Name: Bot\n",
            "\n",
            "Hi.\n",
            "================================\u001b[1m Human Message \u001b[0m=================================\n",
            "Name: Lance\n",
            "\n",
            "Hi.\n",
            "==================================\u001b[1m Ai Message \u001b[0m==================================\n",
            "Name: Bot\n",
            "\n",
            "So you said you were researching ocean mammals?\n",
            "================================\u001b[1m Human Message \u001b[0m=================================\n",
            "Name: Lance\n",
            "\n",
            "Yes, I know about whales. But what others should I learn about?\n",
            "==================================\u001b[1m Ai Message \u001b[0m==================================\n",
            "\n",
            "That's great that you know about whales! There are many other fascinating ocean mammals you can learn about. Here are a few:\n",
            "\n",
            "1. **Dolphins**: Highly intelligent and social animals, dolphins are known for their playful behavior and sophisticated communication skills. There are many species of dolphins, including the well-known bottlenose dolphin.\n",
            "\n",
            "2. **Porpoises**: Often confused with dolphins, porpoises are smaller and have different body shapes and teeth. They are generally more reclusive and less acrobatic than dolphins.\n",
            "\n",
            "3. **Seals**: Seals are part of the pinniped family, which also includes sea lions and walruses. They have streamlined bodies and flippers, making them excellent swimmers. Common types of seals include harbor seals and elephant seals.\n",
            "\n",
            "4. **Sea Lions**: Similar to seals but with some key differences, sea lions have external ear flaps and can rotate their hind flippers to walk on land. They are also very social and often gather in large groups.\n",
            "\n",
            "5. **Walruses**: Recognizable by their long tusks and whiskers, walruses are large marine mammals that are found in Arctic regions. They use their tusks to help them climb out of the water and to break through ice.\n",
            "\n",
            "6. **Manatees and Dugongs**: These gentle giants are often referred to as sea cows. Manatees are found in the Atlantic Ocean, while dugongs are found in the Indian and Pacific Oceans. They are herbivores and spend most of their time grazing on underwater vegetation.\n",
            "\n",
            "7. **Sea Otters**: Known for their playful behavior and use of tools, sea otters are an important part of the marine ecosystem. They have thick fur to keep them warm in cold waters and are often seen floating on their backs.\n",
            "\n",
            "8. **Polar Bears**: While not exclusively marine, polar bears spend a significant amount of time in the ocean, particularly in Arctic regions. They are excellent swimmers and rely on sea ice to hunt seals, their primary food source.\n",
            "\n",
            "9. **Narwhals**: Often called the \"unicorns of the sea,\" narwhals have a long, spiral tusk that is actually an elongated tooth. They are found in Arctic waters and are known for their deep diving abilities.\n",
            "\n",
            "10. **Orcas (Killer Whales)**: Though they are technically a type of dolphin, orcas are often considered separately due to their size and distinctive black-and-white coloring. They are apex predators and have complex social structures.\n",
            "\n",
            "Each of these ocean mammals has unique behaviors, adaptations, and ecological roles, making them fascinating subjects for study.\n",
            "================================\u001b[1m Human Message \u001b[0m=================================\n",
            "Name: Lance\n",
            "\n",
            "Tell me more about Narwhals!\n",
            "==================================\u001b[1m Ai Message \u001b[0m==================================\n",
            "\n",
            "Of course! Narwhals (Monodon monoceros) are fascinating marine mammals that belong to the family Monodontidae, which also includes the beluga whale. They are best known for the long, spiral tusk that protrudes from the head of the males, which has earned them the nickname \"unicorns of the sea.\"\n",
            "\n",
            "Here are some key facts about narwhals:\n",
            "\n",
            "### Physical Characteristics\n",
            "- **Tusk**: The most distinctive feature of the narwhal is the tusk, which is actually an elongated tooth. It can grow up to 10 feet (3 meters) long and is usually found in males, though some females may also develop smaller tusks. The tusk grows in a spiral pattern and is thought to have sensory capabilities, with millions of nerve endings.\n",
            "- **Body**: Narwhals have a stocky body with a mottled black and white skin pattern. They lack a dorsal fin, which is thought to be an adaptation to swimming under ice.\n",
            "- **Size**: Adult narwhals typically range from 13 to 20 feet (4 to 6 meters) in length, with males generally being larger than females.\n",
            "- **Weight**: They can weigh between 1,760 to 3,530 pounds (800 to 1,600 kilograms).\n",
            "\n",
            "### Habitat and Distribution\n",
            "- Narwhals are native to the Arctic waters of Canada, Greenland, Norway, and Russia. They are especially common in the Baffin Bay and the waters surrounding Greenland.\n",
            "- They prefer deep waters and are often found in areas with heavy sea ice.\n",
            "\n",
            "### Behavior and Diet\n",
            "- **Diving**: Narwhals are deep divers and can reach depths of up to 5,000 feet (1,500 meters) in search of food. They can hold their breath for up to 25 minutes.\n",
            "- **Diet**: Their diet primarily consists of fish such as Arctic cod and Greenland halibut, as well as squid and shrimp.\n",
            "- **Social Structure**: Narwhals are social animals and are often found in groups called pods, which typically consist of 5 to 10 individuals but can sometimes number in the hundreds.\n",
            "\n",
            "### Reproduction and Lifespan\n",
            "- Females give birth to a single calf after a gestation period of about 14 to 15 months. Calves are usually born in the spring or early summer.\n",
            "- Narwhals have a long lifespan and can live up to 50 years, although some individuals may live even longer.\n",
            "\n",
            "### Conservation Status\n",
            "- Narwhals are currently classified as \"Near Threatened\" by the International Union for Conservation of Nature (IUCN). Their main threats include climate change, which affects their sea ice habitat, and human activities such as shipping and oil exploration.\n",
            "- Indigenous communities in the Arctic have traditionally hunted narwhals for their meat, blubber, and tusks, which are used for various purposes, including art and tools.\n",
            "\n",
            "### Cultural Significance\n",
            "- The narwhal's tusk has fascinated humans for centuries and was often sold as a \"unicorn horn\" in medieval Europe, believed to possess magical properties.\n",
            "- Narwhals hold significant cultural and economic value for indigenous Arctic communities.\n",
            "\n",
            "Overall, narwhals are remarkable creatures with unique adaptations that allow them to thrive in some of the planet's harshest environments.\n"
          ]
        }
      ],
      "source": [
        "# Invoke, using message filtering\n",
        "output = graph.invoke({'messages': messages})\n",
        "for m in output['messages']:\n",
        "    m.pretty_print()"
      ]
    },
    {
      "cell_type": "markdown",
      "id": "42e1d8d2-e297-4d78-b54c-d12b3c866745",
      "metadata": {
        "id": "42e1d8d2-e297-4d78-b54c-d12b3c866745"
      },
      "source": [
        "The state has all of the mesages.\n",
        "\n",
        "But, let's look at the LangSmith trace to see that the model invocation only uses the last message:\n",
        "\n",
        "https://smith.langchain.com/public/75aca3ce-ef19-4b92-94be-0178c7a660d9/r"
      ]
    },
    {
      "cell_type": "markdown",
      "id": "fc40d930-3c1f-47fe-8d2a-ce174873353c",
      "metadata": {
        "id": "fc40d930-3c1f-47fe-8d2a-ce174873353c"
      },
      "source": [
        "## Trim messages\n",
        "\n",
        "Another approach is to [trim messages](https://python.langchain.com/v0.2/docs/how_to/trim_messages/#getting-the-last-max_tokens-tokens), based upon a set number of tokens.\n",
        "\n",
        "This restricts the message history to a specified number of tokens.\n",
        "\n",
        "While filtering only returns a post-hoc subset of the messages between agents, trimming restricts the number of tokens that a chat model can use to respond.\n",
        "\n",
        "See the `trim_messages` below."
      ]
    },
    {
      "cell_type": "code",
      "execution_count": null,
      "id": "2ff99b81-cf03-4cc2-b44f-44829a73e1fd",
      "metadata": {
        "id": "2ff99b81-cf03-4cc2-b44f-44829a73e1fd",
        "outputId": "778be2f0-8517-46c8-f626-12eba7e7a3b9"
      },
      "outputs": [
        {
          "data": {
            "image/jpeg": "[encoded data removed]",
            "text/plain": [
              "<IPython.core.display.Image object>"
            ]
          },
          "metadata": {},
          "output_type": "display_data"
        }
      ],
      "source": [
        "from langchain_core.messages import trim_messages\n",
        "\n",
        "# Node\n",
        "def chat_model_node(state: MessagesState):\n",
        "    messages = trim_messages(\n",
        "            state[\"messages\"],\n",
        "            max_tokens=100,\n",
        "            strategy=\"last\",\n",
        "            token_counter=ChatOpenAI(model=\"gpt-4o\"),\n",
        "            allow_partial=False,\n",
        "        )\n",
        "    return {\"messages\": [llm.invoke(messages)]}\n",
        "\n",
        "# Build graph\n",
        "builder = StateGraph(MessagesState)\n",
        "builder.add_node(\"chat_model\", chat_model_node)\n",
        "builder.add_edge(START, \"chat_model\")\n",
        "builder.add_edge(\"chat_model\", END)\n",
        "graph = builder.compile()\n",
        "\n",
        "# View\n",
        "display(Image(graph.get_graph().draw_mermaid_png()))"
      ]
    },
    {
      "cell_type": "code",
      "execution_count": null,
      "id": "24df63ac-da29-4874-b3df-7e390e97cc8a",
      "metadata": {
        "id": "24df63ac-da29-4874-b3df-7e390e97cc8a"
      },
      "outputs": [],
      "source": [
        "messages.append(output['messages'][-1])\n",
        "messages.append(HumanMessage(f\"Tell me where Orcas live!\", name=\"Lance\"))"
      ]
    },
    {
      "cell_type": "code",
      "execution_count": null,
      "id": "6d9d8971-c75c-43ca-a209-eb1d07b2ead0",
      "metadata": {
        "id": "6d9d8971-c75c-43ca-a209-eb1d07b2ead0",
        "outputId": "b9f9822c-1d7e-488f-b62b-67ada101554b"
      },
      "outputs": [
        {
          "data": {
            "text/plain": [
              "[HumanMessage(content='Tell me where Orcas live!', name='Lance')]"
            ]
          },
          "execution_count": 17,
          "metadata": {},
          "output_type": "execute_result"
        }
      ],
      "source": [
        "# Example of trimming messages\n",
        "trim_messages(\n",
        "            messages,\n",
        "            max_tokens=100,\n",
        "            strategy=\"last\",\n",
        "            token_counter=ChatOpenAI(model=\"gpt-4o\"),\n",
        "            allow_partial=False\n",
        "        )"
      ]
    },
    {
      "cell_type": "code",
      "execution_count": null,
      "id": "ed70a269-a869-4fa0-a1df-29736a432c51",
      "metadata": {
        "id": "ed70a269-a869-4fa0-a1df-29736a432c51"
      },
      "outputs": [],
      "source": [
        "# Invoke, using message trimming in the chat_model_node\n",
        "messages_out_trim = graph.invoke({'messages': messages})"
      ]
    },
    {
      "cell_type": "markdown",
      "id": "38b3db67-380e-46b5-9a6a-20100ba52008",
      "metadata": {
        "id": "38b3db67-380e-46b5-9a6a-20100ba52008"
      },
      "source": [
        "Let's look at the LangSmith trace to see the model invocation:\n",
        "\n",
        "https://smith.langchain.com/public/b153f7e9-f1a5-4d60-8074-f0d7ab5b42ef/r"
      ]
    }
  ],
  "metadata": {
    "kernelspec": {
      "display_name": "Python 3 (ipykernel)",
      "language": "python",
      "name": "python3"
    },
    "language_info": {
      "codemirror_mode": {
        "name": "ipython",
        "version": 3
      },
      "file_extension": ".py",
      "mimetype": "text/x-python",
      "name": "python",
      "nbconvert_exporter": "python",
      "pygments_lexer": "ipython3",
      "version": "3.12.1"
    },
    "colab": {
      "provenance": []
    }
  },
  "nbformat": 4,
  "nbformat_minor": 5
}